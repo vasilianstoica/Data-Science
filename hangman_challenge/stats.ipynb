{
 "cells": [
  {
   "cell_type": "code",
   "execution_count": 23,
   "id": "1d56954f",
   "metadata": {},
   "outputs": [],
   "source": [
    "from scipy.stats import binom_test"
   ]
  },
  {
   "cell_type": "code",
   "execution_count": 24,
   "id": "453b0171",
   "metadata": {
    "scrolled": true
   },
   "outputs": [
    {
     "name": "stdout",
     "output_type": "stream",
     "text": [
      "0.07207796646515205\n"
     ]
    },
    {
     "name": "stderr",
     "output_type": "stream",
     "text": [
      "C:\\Users\\stoic\\AppData\\Local\\Temp\\ipykernel_43268\\1858872744.py:1: DeprecationWarning: 'binom_test' is deprecated in favour of 'binomtest' from version 1.7.0 and will be removed in Scipy 1.12.0.\n",
      "  pval = binom_test(599, 1000, .627)\n"
     ]
    }
   ],
   "source": [
    "pval = binom_test(599, 1000, .627)\n",
    "print(pval)"
   ]
  },
  {
   "cell_type": "code",
   "execution_count": 25,
   "id": "f3fa00ff",
   "metadata": {},
   "outputs": [
    {
     "data": {
      "text/plain": [
       "0.593"
      ]
     },
     "execution_count": 25,
     "metadata": {},
     "output_type": "execute_result"
    }
   ],
   "source": [
    "593/1000"
   ]
  },
  {
   "cell_type": "code",
   "execution_count": 26,
   "id": "998d315e",
   "metadata": {},
   "outputs": [
    {
     "data": {
      "text/plain": [
       "836"
      ]
     },
     "execution_count": 26,
     "metadata": {},
     "output_type": "execute_result"
    }
   ],
   "source": [
    "511+325"
   ]
  },
  {
   "cell_type": "code",
   "execution_count": 27,
   "id": "188f7b0b",
   "metadata": {},
   "outputs": [
    {
     "data": {
      "text/plain": [
       "0.611244019138756"
      ]
     },
     "execution_count": 27,
     "metadata": {},
     "output_type": "execute_result"
    }
   ],
   "source": [
    "511/836"
   ]
  },
  {
   "cell_type": "code",
   "execution_count": null,
   "id": "9261f800",
   "metadata": {},
   "outputs": [],
   "source": []
  }
 ],
 "metadata": {
  "kernelspec": {
   "display_name": "Python 3 (ipykernel)",
   "language": "python",
   "name": "python3"
  },
  "language_info": {
   "codemirror_mode": {
    "name": "ipython",
    "version": 3
   },
   "file_extension": ".py",
   "mimetype": "text/x-python",
   "name": "python",
   "nbconvert_exporter": "python",
   "pygments_lexer": "ipython3",
   "version": "3.10.9"
  }
 },
 "nbformat": 4,
 "nbformat_minor": 5
}
